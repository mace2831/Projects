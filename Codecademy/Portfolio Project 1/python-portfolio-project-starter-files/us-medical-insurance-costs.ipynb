{
 "cells": [
  {
   "cell_type": "markdown",
   "metadata": {},
   "source": [
    "# U.S. Medical Insurance Costs"
   ]
  },
  {
   "cell_type": "code",
   "execution_count": 19,
   "metadata": {},
   "outputs": [
    {
     "name": "stdout",
     "output_type": "stream",
     "text": [
      "There are 274 smokers that have an average cost of $32050.23.\n",
      "There are 1064 smokers that have an average cost of $8434.27.\n"
     ]
    }
   ],
   "source": [
    "import csv\n",
    "\n",
    "insurance_dict = {}\n",
    "record_id = 1\n",
    "smokers = 0\n",
    "non_smokers = 0\n",
    "\n",
    "with open('insurance.csv') as insurance_csv:\n",
    "    csv_reader = csv.DictReader(insurance_csv)\n",
    "    for row in csv_reader:\n",
    "        insurance_dict[record_id] = {'age':row['age'], 'sex': row['sex'], 'bmi':row['bmi'], 'children':row['children'], 'smoker':row['smoker'], 'region':row['region'], 'charges':row['charges']}\n",
    "        record_id += 1\n",
    "\n",
    "num_records = len(insurance_dict)\n",
    "\n",
    "def number_of_smokers():\n",
    "    num_smokers = 0\n",
    "    for record in insurance_dict:\n",
    "        if insurance_dict[record]['smoker'] == 'yes':\n",
    "            num_smokers += 1\n",
    "    return num_smokers\n",
    "\n",
    "def average_cost_for_smokers():\n",
    "    total = 0\n",
    "    for record in insurance_dict:\n",
    "        if insurance_dict[record]['smoker'] == 'yes':\n",
    "            total += float(insurance_dict[record]['charges'])\n",
    "            \n",
    "    avg_cost = round((total / smokers), 2)\n",
    "    return avg_cost\n",
    "\n",
    "def number_of_non_smokers():\n",
    "    num_non_smokers = 0\n",
    "    for record in insurance_dict:\n",
    "        if insurance_dict[record]['smoker'] == 'no':\n",
    "            num_non_smokers += 1\n",
    "    return num_non_smokers\n",
    "\n",
    "def average_cost_non_smokers():\n",
    "    total = 0\n",
    "    for record in insurance_dict:\n",
    "        if insurance_dict[record]['smoker'] == 'no':\n",
    "            total += float(insurance_dict[record]['charges'])\n",
    "            \n",
    "    avg_cost = round((total / non_smokers), 2)\n",
    "    return avg_cost\n",
    "smokers = number_of_smokers()\n",
    "non_smokers = number_of_non_smokers()\n",
    "\n",
    "print('There are {} smokers that have an average cost of ${}.'.format(smokers,average_cost_for_smokers()))\n",
    "\n",
    "print('There are {} smokers that have an average cost of ${}.'.format(non_smokers,average_cost_non_smokers()))"
   ]
  },
  {
   "cell_type": "code",
   "execution_count": 20,
   "metadata": {},
   "outputs": [
    {
     "name": "stdout",
     "output_type": "stream",
     "text": [
      "The average age of smokers is 38.5 years old\n"
     ]
    }
   ],
   "source": [
    "def avg_smoker_age():\n",
    "    age_total = 0\n",
    "    for record in insurance_dict:\n",
    "        if insurance_dict[record]['smoker'] == 'yes':\n",
    "            age_total += int(insurance_dict[record]['age'])\n",
    "    return round(age_total/ smokers, 1)\n",
    "\n",
    "print('The average age of smokers is {} years old'.format(avg_smoker_age()))\n",
    "    "
   ]
  },
  {
   "cell_type": "code",
   "execution_count": 21,
   "metadata": {},
   "outputs": [
    {
     "name": "stdout",
     "output_type": "stream",
     "text": [
      "The average age of non smokers is 39.4 years old.\n"
     ]
    }
   ],
   "source": [
    "def avg_non_smoker_age():\n",
    "    age_total = 0\n",
    "    for record in insurance_dict:\n",
    "        if insurance_dict[record]['smoker'] == 'no':\n",
    "            age_total += int(insurance_dict[record]['age'])\n",
    "    return round(age_total/ non_smokers, 1)\n",
    "print('The average age of non smokers is {} years old.'.format(avg_non_smoker_age()))"
   ]
  },
  {
   "cell_type": "code",
   "execution_count": 24,
   "metadata": {},
   "outputs": [
    {
     "name": "stdout",
     "output_type": "stream",
     "text": [
      "Of the 1338 insurance customers 274 of them are smokers with an average cost of $32050.23.\n",
      "There are 1064 non smoking customers with an average cost of $8434.27.\n"
     ]
    }
   ],
   "source": [
    "print('Of the {} insurance customers {} of them are smokers with an average cost of ${}.'.format(num_records, smokers, average_cost_for_smokers()))\n",
    "print('There are {} non smoking customers with an average cost of ${}.'.format(non_smokers, average_cost_non_smokers()))"
   ]
  },
  {
   "cell_type": "code",
   "execution_count": 31,
   "metadata": {},
   "outputs": [
    {
     "name": "stdout",
     "output_type": "stream",
     "text": [
      "The average cost for all customers is $13270.42.\n",
      "The avearage smoker pays 242.0% more in insurance costs than the average customer, while the average non smoker pays 64.0% of the avearage cost.\n",
      "Quitting smoking could reduce the average cost of insurance for a potential savings of $18779.81.\n"
     ]
    }
   ],
   "source": [
    "def average_cost():\n",
    "    total_cost = 0\n",
    "    for record in insurance_dict:\n",
    "        total_cost += float(insurance_dict[record]['charges'])\n",
    "    return round(total_cost / num_records, 2)\n",
    "\n",
    "print('The average cost for all customers is ${}.'.format(average_cost()))\n",
    "print('The avearage smoker pays {}% more in insurance costs than the average customer, while the average non smoker pays {}% of the avearage cost.'\n",
    "      .format(round(average_cost_for_smokers()/average_cost(), 2) * 100, round(average_cost_non_smokers()/average_cost(), 2) * 100))\n",
    "print('Quitting smoking could reduce the average cost of insurance for a potential savings of ${}.'.format(round(average_cost_for_smokers() - average_cost(), 2)))"
   ]
  },
  {
   "cell_type": "code",
   "execution_count": null,
   "metadata": {},
   "outputs": [],
   "source": []
  }
 ],
 "metadata": {
  "kernelspec": {
   "display_name": "Python 3 (ipykernel)",
   "language": "python",
   "name": "python3"
  },
  "language_info": {
   "codemirror_mode": {
    "name": "ipython",
    "version": 3
   },
   "file_extension": ".py",
   "mimetype": "text/x-python",
   "name": "python",
   "nbconvert_exporter": "python",
   "pygments_lexer": "ipython3",
   "version": "3.10.11"
  }
 },
 "nbformat": 4,
 "nbformat_minor": 4
}
